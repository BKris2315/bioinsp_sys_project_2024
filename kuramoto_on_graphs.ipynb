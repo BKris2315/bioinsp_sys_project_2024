{
 "cells": [
  {
   "cell_type": "code",
   "execution_count": 37,
   "metadata": {},
   "outputs": [],
   "source": [
    "import os\n",
    "import sys\n",
    "sys.path.append(os.path.abspath('../'))\n",
    "\n",
    "import time\n",
    "import scipy as sp\n",
    "import numpy as np\n",
    "import igraph as ig\n",
    "from tqdm import tqdm\n",
    "import networkx as nx\n",
    "import NetworkingWithKuraPy as kp\n",
    "\n",
    "from src.utils.igraph_tools import Tools as tl"
   ]
  },
  {
   "cell_type": "markdown",
   "metadata": {},
   "source": [
    "# Kuramoto model on various graph model and real world networks\n",
    "## Project for Bioinspired Systems 2024\n",
    "---\n",
    "#### 11 of December, 2024, Budapest\n",
    "#### Kristóf Benedek\n",
    "email: kristof.benedek@edu.bme.hu\n",
    "\n",
    "## Introduction\n",
    "\n",
    "Synchronization phenomena is fascinating and it occurs in our everyday life, more over it also governs numerous processes. Just think about opinion dynamics, traffic, applause, fireflies' flickering and neurons.\n",
    "\n",
    "For different systems and dynamics several models are implemented and used. One such well-known model is the Kuramoto model. It comes in many flavours, generally building on two major variants, namely the first and second order Kuramoto model.\n",
    "\n",
    "\n",
    "\n",
    "**The first-order Kuramoto model** describes the dynamics of $ N $ coupled oscillators. The equation is:\n",
    "\n",
    "$$\n",
    "\\frac{d\\theta_i}{dt} = \\omega_i + \\frac{K}{N} \\sum_{j=1}^N \\sin(\\theta_j - \\theta_i), \\quad i = 1, 2, \\dots, N\n",
    "$$\n",
    "\n",
    "- **Variables**:\n",
    "  - $ \\theta_i $: The phase of the $ i $-th oscillator.\n",
    "  - $ \\omega_i $: The natural frequency of the $ i $-th oscillator, drawn from a distribution (often Gaussian or uniform).\n",
    "  - $ K $: Coupling strength that determines how strongly the oscillators interact.\n",
    "  - $ N $: Total number of oscillators.\n",
    "\n",
    "#### **Interpretation**:\n",
    "1. **Natural Frequency** ($ \\omega_i $):\n",
    "   - Each oscillator has a natural tendency to oscillate at its own frequency.\n",
    "2. **Coupling Term** ($ \\frac{K}{N} \\sum_{j=1}^N \\sin(\\theta_j - \\theta_i) $):\n",
    "   - Oscillators influence each other through this term. If $ K > 0 $, they tend to synchronize by pulling their phases closer.\n",
    "3. **Behavior**:\n",
    "   - At low coupling ($ K $), oscillators remain desynchronized.\n",
    "   - At high coupling, synchronization emerges, where oscillators align their phases or move coherently.\n",
    "   - A phase transition from incoherence to partial or full synchronization occurs as $ K $ increases.\n",
    "\n",
    "This first-order equation is widely used to study synchronization in coupled systems as brain, Jospehson junctions, opinion dynamics.\n",
    "\n",
    "\n",
    "**The second-order Kuramoto model** includes an inertia term, which adds dynamics for systems where momentum or damping effects are significant. The equation is:\n",
    "\n",
    "$$\n",
    "m \\frac{d^2 \\theta_i}{dt^2} + \\gamma \\frac{d\\theta_i}{dt} = \\omega_i + \\frac{K}{N} \\sum_{j=1}^N \\sin(\\theta_j - \\theta_i), \\quad i = 1, 2, \\dots, N\n",
    "$$\n",
    "\n",
    "- **Additional Variables**:\n",
    "  - $ m $: Inertia or mass of the oscillators.\n",
    "  - $ \\gamma $: Damping coefficient.\n",
    "\n",
    "#### **Interpretation**:\n",
    "1. **Inertia Term** ($ m \\frac{d^2\\theta_i}{dt^2} $):\n",
    "   - Introduces oscillatory inertia, relevant in systems where the oscillators resist changes to their velocities.\n",
    "   - Examples: Power grids, mechanical oscillators, or systems with delayed adjustments.\n",
    "2. **Damping Term** ($ \\gamma \\frac{d\\theta_i}{dt} $):\n",
    "   - Accounts for dissipation of energy, reducing the oscillators' velocities over time.\n",
    "3. **Behavior**:\n",
    "   - For low damping ($ \\gamma $), the system can exhibit oscillatory or chaotic dynamics.\n",
    "   - At high damping, the model simplifies to the first-order Kuramoto model.\n",
    "   - The system can show richer synchronization behavior, such as frequency clustering or hysteresis effects.\n",
    "\n",
    "---\n",
    "\n",
    "### **Key Differences Between First and Second-Order Models**\n",
    "\n",
    "| Aspect                  | First-Order Model                              | Second-Order Model                              |\n",
    "|-------------------------|-----------------------------------------------|------------------------------------------------|\n",
    "| Dynamics                | Simplified, phase-only evolution.             | Includes inertia and velocity effects.         |\n",
    "| Applicability           | Systems where inertia is negligible.          | Systems with momentum or delayed adjustments.  |\n",
    "| Synchronization Behavior| Phase transitions from incoherence to sync.    | Richer dynamics: oscillations, clustering.     |\n",
    "| Complexity              | Easier to analyze and simulate.               | More complex but realistic in some contexts.   |\n",
    "\n",
    "Both models have been widely used to study synchronization in various systems, from neuroscience to power grid stability and social dynamics.\n",
    "\n",
    "## Aims\n",
    "\n",
    "In this work I will attempt to investigate how synschronization dynamics is affected by the structure of the underlying system. This will mean in practice, that we will generate some synthetic graphs via some well-known methods such as:\n",
    "- Erdős-Rényi\n",
    "- Small-World\n",
    "- Barabási-Albert (preferential attachement)\n",
    "- Stohastic Block Method (SBM)\n",
    "\n",
    "We will compare the synchronization dynamics with a few real world examples, such as:\n",
    "- a road network of a city\n",
    "- some brain netwrok\n",
    "where the application of the Kuramoto model can be motivated.\n",
    "\n",
    "In the first part we will compute some properties of the graphs, such as:\n",
    "- centrality measures (mainly betweeness)\n",
    "- degree distributions\n",
    "- community structure (one method only: infomap) \n",
    "- diameter of the graph\n",
    "- average degree\n",
    "- clustering coefficient\n",
    "- number of triangles\n",
    "\n",
    "In the second part, we will simulate the Kuramoto model on these graphs and observe the synchronization dynamics. We will use the Kuramoto model implemented in the NetworkingWithKuraPy library developed by me and a colleague of mine. This repo is not yet public as it is still under development, for accessing or viewing the code please contact me.\n",
    "\n",
    "\n",
    "\n",
    "## Part I - Analyzing the graphs\n",
    "\n"
   ]
  },
  {
   "cell_type": "code",
   "execution_count": 48,
   "metadata": {},
   "outputs": [
    {
     "name": "stdout",
     "output_type": "stream",
     "text": [
      "Is the graph planar? True\n"
     ]
    }
   ],
   "source": [
    "import igraph as ig\n",
    "\n",
    "\n",
    "\n",
    "# Example usage\n",
    "g = ig.Graph()\n",
    "g.add_vertices(4)\n",
    "g.add_edges([(0, 1), (1, 2), (2, 3), (3, 0), (0, 2)])\n",
    "\n",
    "print(f\"Is the graph planar? {is_graph_planar(g)}\")\n"
   ]
  },
  {
   "cell_type": "code",
   "execution_count": 49,
   "metadata": {},
   "outputs": [
    {
     "data": {
      "text/plain": [
       "[(0, 2, 3), (0, 1, 2)]"
      ]
     },
     "execution_count": 49,
     "metadata": {},
     "output_type": "execute_result"
    }
   ],
   "source": [
    "g.cliques(min=3, max=3)"
   ]
  },
  {
   "cell_type": "code",
   "execution_count": 50,
   "metadata": {},
   "outputs": [
    {
     "data": {
      "text/plain": [
       "0.5833333333333333"
      ]
     },
     "execution_count": 50,
     "metadata": {},
     "output_type": "execute_result"
    }
   ],
   "source": [
    "tl.calculate_sparsity(g)"
   ]
  },
  {
   "cell_type": "code",
   "execution_count": 52,
   "metadata": {},
   "outputs": [
    {
     "name": "stdout",
     "output_type": "stream",
     "text": [
      "Erdős-Rényi graph generated with 100 vertices and 200 edges.\n",
      "Small-World graph generated with 100 vertices and 200 edges.\n",
      "Barabási-Albert graph generated with 100 vertices and 197 edges.\n",
      "Stochastic Block Model graph generated with 100 vertices and 265 edges.\n"
     ]
    }
   ],
   "source": [
    "from src.utils.graph_generator import GraphGenerator\n",
    "\n",
    "gen = GraphGenerator\n",
    "\n",
    "# Erdős-Rényi graph\n",
    "erdos_renyi_graph = gen.generate_erdos_renyi(n=100, m=200)\n",
    "print(\"Erdős-Rényi graph generated with\", len(erdos_renyi_graph.vs), \"vertices and\", len(erdos_renyi_graph.es), \"edges.\")\n",
    "\n",
    "# Small-World graph\n",
    "small_world_graph = gen.generate_small_world(n=100, k=4, p=0.1)\n",
    "print(\"Small-World graph generated with\", len(small_world_graph.vs), \"vertices and\", len(small_world_graph.es), \"edges.\")\n",
    "\n",
    "# Barabási-Albert graph\n",
    "barabasi_albert_graph = gen.generate_barabasi_albert(n=100, m=2)\n",
    "print(\"Barabási-Albert graph generated with\", len(barabasi_albert_graph.vs), \"vertices and\", len(barabasi_albert_graph.es), \"edges.\")\n",
    "\n",
    "# Stochastic Block Model graph\n",
    "sbm_graph = gen.generate_stochastic_block_model(n=100,sizes=[50, 50], p_matrix=[[0.1, 0.01], [0.01, 0.1]])\n",
    "print(\"Stochastic Block Model graph generated with\", len(sbm_graph.vs), \"vertices and\", len(sbm_graph.es), \"edges.\")\n"
   ]
  },
  {
   "cell_type": "markdown",
   "metadata": {},
   "source": [
    "## Resources\n",
    "\n",
    "All real world (not generated) graphs come from external sources. The road networks were downloaded from/with [2] and the other networks were downloaded from [1].\n",
    "\n",
    "## Code availability\n",
    "\n",
    "The project source code is hosted at my [GitHub](https://github.com/)\n",
    "\n",
    "\n",
    "1. Rossi, R. A., & Ahmed, N. K. (2015). The Network Data Repository with Interactive Graph Analytics and Visualization. Proceedings of the AAAI Conference on Artificial Intelligence. Retrieved from https://networkrepository.com\n",
    "2. Boeing, (2017), OSMnx: A Python package to work with graph-theoretic OpenStreetMap street networks, Journal of Open Source Software, 2(12), 215, doi:10.21105/joss.00215\n",
    "3. Acebrón, J. A., Bonilla, L. L., Pérez Vicente, C. J., Ritort, F., & Spigler, R. (2005). The Kuramoto model: A simple paradigm for synchronization phenomena. Review of Modern Physics, 77(1), 137–185. https://doi.org/10.1103/RevModPhys.77.137\n",
    "4. [Wikipedia - Kuramoto model](https://en.wikipedia.org/wiki/Kuramoto_model) "
   ]
  }
 ],
 "metadata": {
  "kernelspec": {
   "display_name": "Python 3",
   "language": "python",
   "name": "python3"
  },
  "language_info": {
   "codemirror_mode": {
    "name": "ipython",
    "version": 3
   },
   "file_extension": ".py",
   "mimetype": "text/x-python",
   "name": "python",
   "nbconvert_exporter": "python",
   "pygments_lexer": "ipython3",
   "version": "3.12.6"
  }
 },
 "nbformat": 4,
 "nbformat_minor": 2
}
